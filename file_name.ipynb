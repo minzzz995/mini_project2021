{
 "cells": [
  {
   "cell_type": "code",
   "execution_count": 1,
   "id": "52904209",
   "metadata": {},
   "outputs": [],
   "source": [
    "import os\n",
    "import glob"
   ]
  },
  {
   "cell_type": "code",
   "execution_count": 10,
   "id": "0842d646",
   "metadata": {},
   "outputs": [
    {
     "data": {
      "text/plain": [
       "['KakaoTalk_20211001_164007457.jpg',\n",
       " 'KakaoTalk_20211001_164007457_01.jpg',\n",
       " 'KakaoTalk_20211001_164007457_02.jpg',\n",
       " 'KakaoTalk_20211001_164007457_03.jpg',\n",
       " 'KakaoTalk_20211001_164007457_04.jpg',\n",
       " 'KakaoTalk_20211001_164007457_05.jpg',\n",
       " 'KakaoTalk_20211001_164007457_06.jpg',\n",
       " 'KakaoTalk_20211001_164007457_07.jpg',\n",
       " 'KakaoTalk_20211001_164007457_08.jpg',\n",
       " 'KakaoTalk_20211001_164007457_09.jpg',\n",
       " 'KakaoTalk_20211001_164007457_10.jpg',\n",
       " 'KakaoTalk_20211001_164007457_11.jpg']"
      ]
     },
     "execution_count": 10,
     "metadata": {},
     "output_type": "execute_result"
    }
   ],
   "source": [
    "file_path = ''\n",
    "file_names = os.listdir(file_path)\n",
    "file_names"
   ]
  },
  {
   "cell_type": "code",
   "execution_count": 11,
   "id": "761ead3f",
   "metadata": {},
   "outputs": [],
   "source": [
    "i = 1\n",
    "for name in file_names:\n",
    "    src = os.path.join(file_path, name)\n",
    "    dst = str(i) + '.jpg'\n",
    "    dst = os.path.join(file_path, dst)\n",
    "    os.rename(src, dst)\n",
    "    i += 1"
   ]
  }
 ],
 "metadata": {
  "kernelspec": {
   "display_name": "Python 3",
   "language": "python",
   "name": "python3"
  },
  "language_info": {
   "codemirror_mode": {
    "name": "ipython",
    "version": 3
   },
   "file_extension": ".py",
   "mimetype": "text/x-python",
   "name": "python",
   "nbconvert_exporter": "python",
   "pygments_lexer": "ipython3",
   "version": "3.8.8"
  }
 },
 "nbformat": 4,
 "nbformat_minor": 5
}
